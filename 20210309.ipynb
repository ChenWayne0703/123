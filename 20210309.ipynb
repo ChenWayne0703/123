{
  "nbformat": 4,
  "nbformat_minor": 0,
  "metadata": {
    "colab": {
      "name": "20210309",
      "provenance": [],
      "collapsed_sections": [],
      "toc_visible": true,
      "include_colab_link": true
    },
    "kernelspec": {
      "display_name": "Python 3",
      "language": "python",
      "name": "python3"
    },
    "language_info": {
      "codemirror_mode": {
        "name": "ipython",
        "version": 3
      },
      "file_extension": ".py",
      "mimetype": "text/x-python",
      "name": "python",
      "nbconvert_exporter": "python",
      "pygments_lexer": "ipython3",
      "version": "3.7.1"
    }
  },
  "cells": [
    {
      "cell_type": "markdown",
      "metadata": {
        "id": "view-in-github",
        "colab_type": "text"
      },
      "source": [
        "<a href=\"https://colab.research.google.com/github/ChenWayne0703/123/blob/main/20210309.ipynb\" target=\"_parent\"><img src=\"https://colab.research.google.com/assets/colab-badge.svg\" alt=\"Open In Colab\"/></a>"
      ]
    },
    {
      "cell_type": "markdown",
      "metadata": {
        "id": "8gIfUIKi6ln8"
      },
      "source": [
        "[week 2](https://colab.research.google.com/drive/1Bhfc2ljSJG_j6EK2j-moTiflWkF8yeyN?hl=en)\n",
        "[week 4](https://colab.research.google.com/drive/1qaz79k_b6PQs_qfzX_VTW7WckjNE7vlg?hl=en)\n",
        "#資料結構 week 3 (2020/03/17)\n",
        "- python advanced topics review:\n",
        "  - [List Comprehension from datacamp](https://www.datacamp.com/community/tutorials/python-list-comprehension?utm_source=adwords_ppc&utm_campaignid=1455363063&utm_adgroupid=65083631748&utm_device=c&utm_keyword=&utm_matchtype=b&utm_network=s&utm_adpostion=&utm_creative=332602034361&utm_targetid=aud-390929969673:dsa-486527602543&utm_loc_interest_ms=&utm_loc_physical_ms=9040380&gclid=CjwKCAiA-vLyBRBWEiwAzOkGVHrSteyxtXt_G3uT50CRzUZa0nNCsJtPuFaK__ss6GhTg0ZsTliwMBoCIYAQAvD_BwE)(ok)\n",
        "  - [Functions from w3school](https://www.w3schools.com/python/python_functions.asp)(ok)\n",
        "  - [Lambda from w3school](https://www.w3schools.com/python/python_lambda.asp)(ok)\n",
        "  - [Arrays from w3school](https://www.w3schools.com/python/python_arrays.asp)(ok)\n",
        "  - [Classes/Objects from w3school](https://www.w3schools.com/python/python_classes.asp)\n",
        "  - [Regex from w3school](https://www.w3schools.com/python/python_regex.asp)\n",
        "  "
      ]
    },
    {
      "cell_type": "markdown",
      "metadata": {
        "id": "32ZztH0MVFjz"
      },
      "source": [
        "### CBF108012 陳尹煒"
      ]
    },
    {
      "cell_type": "code",
      "metadata": {
        "id": "BgIBWN6nUJhL"
      },
      "source": [
        "# introducing zip functions, concating two lists side by side\n",
        "# zip(list1, list2)\n",
        "words=['one', 'two', 'three', 'four', 'five', 'six']\n",
        "numbers=[1,2,3,4,5,6]"
      ],
      "execution_count": null,
      "outputs": []
    },
    {
      "cell_type": "code",
      "metadata": {
        "id": "Z2NbuG6_Vilr",
        "colab": {
          "base_uri": "https://localhost:8080/",
          "height": 35
        },
        "outputId": "f681cd98-f261-43bb-cfe1-4384d4e1b97e"
      },
      "source": [
        "# zip words and numbers together\n",
        "list(zip(words, numbers))"
      ],
      "execution_count": null,
      "outputs": [
        {
          "output_type": "execute_result",
          "data": {
            "text/plain": [
              "[('one', 1), ('two', 2), ('three', 3), ('four', 4), ('five', 5), ('six', 6)]"
            ]
          },
          "metadata": {
            "tags": []
          },
          "execution_count": 4
        }
      ]
    },
    {
      "cell_type": "code",
      "metadata": {
        "id": "fxlkvGqQVqqW",
        "colab": {
          "base_uri": "https://localhost:8080/",
          "height": 35
        },
        "outputId": "2b31e48f-698d-4987-8d9b-4bb8df5475ee"
      },
      "source": [
        "# you can add a list to show its content\n",
        "list(_)  # you know what '_' means?"
      ],
      "execution_count": null,
      "outputs": [
        {
          "output_type": "execute_result",
          "data": {
            "text/plain": [
              "[('one', 1), ('two', 2), ('three', 3), ('four', 4), ('five', 5), ('six', 6)]"
            ]
          },
          "metadata": {
            "tags": []
          },
          "execution_count": 3
        }
      ]
    },
    {
      "cell_type": "code",
      "metadata": {
        "id": "Kpl_v7pwVzcV"
      },
      "source": [
        "word_dic=dict(zip(words, numbers))"
      ],
      "execution_count": null,
      "outputs": []
    },
    {
      "cell_type": "code",
      "metadata": {
        "id": "gNF_-n8MWM2k",
        "colab": {
          "base_uri": "https://localhost:8080/"
        },
        "outputId": "0d4a8be9-81c9-4194-d2c1-bd71d6316ae7"
      },
      "source": [
        "word_dic"
      ],
      "execution_count": null,
      "outputs": [
        {
          "output_type": "execute_result",
          "data": {
            "text/plain": [
              "{'five': 5, 'four': 4, 'one': 1, 'six': 6, 'three': 3, 'two': 2}"
            ]
          },
          "metadata": {
            "tags": []
          },
          "execution_count": 3
        }
      ]
    },
    {
      "cell_type": "code",
      "metadata": {
        "id": "5c6iFipdZFQ2",
        "colab": {
          "base_uri": "https://localhost:8080/"
        },
        "outputId": "c4bb1190-4c94-4757-8f7e-044c4ff34a86"
      },
      "source": [
        "sorted(word_dic)"
      ],
      "execution_count": null,
      "outputs": [
        {
          "output_type": "execute_result",
          "data": {
            "text/plain": [
              "['five', 'four', 'one', 'six', 'three', 'two']"
            ]
          },
          "metadata": {
            "tags": []
          },
          "execution_count": 4
        }
      ]
    },
    {
      "cell_type": "code",
      "metadata": {
        "id": "MVjKaU4dZH87",
        "colab": {
          "base_uri": "https://localhost:8080/"
        },
        "outputId": "23c1328f-1160-4e7a-cb30-4835e5b9feb2"
      },
      "source": [
        "sorted(word_dic.items())"
      ],
      "execution_count": null,
      "outputs": [
        {
          "output_type": "execute_result",
          "data": {
            "text/plain": [
              "[('five', 5), ('four', 4), ('one', 1), ('six', 6), ('three', 3), ('two', 2)]"
            ]
          },
          "metadata": {
            "tags": []
          },
          "execution_count": 5
        }
      ]
    },
    {
      "cell_type": "code",
      "metadata": {
        "id": "XscTCVPvWO5o",
        "colab": {
          "base_uri": "https://localhost:8080/"
        },
        "outputId": "7083180e-d001-46f4-f4e0-b55e18de6433"
      },
      "source": [
        "#for x in word_dic.items():\n",
        "#    print(x[1]) \n",
        "#how to sort word_dic by value?\n",
        "sorted(word_dic.items(), key=lambda x:x[1], reverse=True)"
      ],
      "execution_count": null,
      "outputs": [
        {
          "output_type": "execute_result",
          "data": {
            "text/plain": [
              "[('six', 6), ('five', 5), ('four', 4), ('three', 3), ('two', 2), ('one', 1)]"
            ]
          },
          "metadata": {
            "tags": []
          },
          "execution_count": 8
        }
      ]
    },
    {
      "cell_type": "markdown",
      "metadata": {
        "id": "vakm9s_w9k1y"
      },
      "source": [
        "  - [Classes/Objects from w3school](https://www.w3schools.com/python/python_classes.asp)\n",
        "      - calling classmethod via `Classname.`, objectmethod via `self.`, e.g. `self.`gcd(p, q) or `MyClass.`gcd(p, q)\n",
        "      - \\_\\_init__, \\_\\_repr__, \\_\\_str__\n",
        "      - \\_\\_add__, \\_\\_sub__\n"
      ]
    },
    {
      "cell_type": "code",
      "metadata": {
        "id": "EbTs_8VQ9le1",
        "colab": {
          "base_uri": "https://localhost:8080/"
        },
        "outputId": "de5a6d4b-70fd-4621-f369-dda1953b8661"
      },
      "source": [
        "#after learning through w3school's classes/objects contents\n",
        "#object variables vs. class variables\n",
        "class MyClass:\n",
        "  x = 5\n",
        "  def __init__(me,x=5,y=7):\n",
        "      me.x = x\n",
        "      me.y = y\n",
        "  def __str__(me):\n",
        "    return f'{me.x},{me.y}'\n",
        "  def __repr__(me):\n",
        "    return me.__str__()\n",
        "\n",
        "p = MyClass()\n",
        "print(p)\n",
        "print(MyClass.x) # x is actually a class variable, so can be accesses by class name"
      ],
      "execution_count": 16,
      "outputs": [
        {
          "output_type": "stream",
          "text": [
            "5,7\n",
            "5\n"
          ],
          "name": "stdout"
        }
      ]
    },
    {
      "cell_type": "code",
      "metadata": {
        "colab": {
          "base_uri": "https://localhost:8080/"
        },
        "id": "ZhzRaT87oE3P",
        "outputId": "97d21981-9930-4ba4-9e18-30d89f7ca58c"
      },
      "source": [
        "p"
      ],
      "execution_count": 19,
      "outputs": [
        {
          "output_type": "execute_result",
          "data": {
            "text/plain": [
              "4,8"
            ]
          },
          "metadata": {
            "tags": []
          },
          "execution_count": 19
        }
      ]
    },
    {
      "cell_type": "code",
      "metadata": {
        "colab": {
          "base_uri": "https://localhost:8080/"
        },
        "id": "uf0Xqtn7l3c6",
        "outputId": "e1653993-93fb-4d68-dcd6-e1ff1158d430"
      },
      "source": [
        "p=MyClass(4,8)\r\n",
        "print(p)\r\n",
        "print(MyClass.x)"
      ],
      "execution_count": 20,
      "outputs": [
        {
          "output_type": "stream",
          "text": [
            "4,8\n",
            "5\n"
          ],
          "name": "stdout"
        }
      ]
    },
    {
      "cell_type": "code",
      "metadata": {
        "id": "uW34R8VxSxCb"
      },
      "source": [
        "class Person:\n",
        "  name = 'nobody'\n",
        "  def __init__(self, name='Mary', age=30):\n",
        "    self.name = name\n",
        "    self.age = age\n",
        "  def getOlder(self, year=1):\n",
        "    self.age += year\n",
        "  def __str__(self):\n",
        "    return f'{self.name}:{self.age}'\n",
        "  def __repr__(self):\n",
        "    return f'({self.name}, {self.age})'"
      ],
      "execution_count": null,
      "outputs": []
    },
    {
      "cell_type": "code",
      "metadata": {
        "id": "REKbwCCSS_x3"
      },
      "source": [
        "p1 = Person(\"John\", 36)\n",
        "p2 = Person('Louise')\n",
        "p3 = Person()"
      ],
      "execution_count": null,
      "outputs": []
    },
    {
      "cell_type": "code",
      "metadata": {
        "id": "FxSw04gBTMD3",
        "colab": {
          "base_uri": "https://localhost:8080/",
          "height": 35
        },
        "outputId": "dd4c78fc-7a97-41bf-d1c5-6044ce3f9b48"
      },
      "source": [
        "p1"
      ],
      "execution_count": null,
      "outputs": [
        {
          "output_type": "execute_result",
          "data": {
            "text/plain": [
              "(John, 36)"
            ]
          },
          "metadata": {
            "tags": []
          },
          "execution_count": 37
        }
      ]
    },
    {
      "cell_type": "code",
      "metadata": {
        "id": "CMnr5IVSTsZQ",
        "colab": {
          "base_uri": "https://localhost:8080/",
          "height": 52
        },
        "outputId": "1f908a07-c659-4f19-c399-df6e1a1c5650"
      },
      "source": [
        "print(p2)\n",
        "p3"
      ],
      "execution_count": null,
      "outputs": [
        {
          "output_type": "stream",
          "text": [
            "Louise:30\n"
          ],
          "name": "stdout"
        },
        {
          "output_type": "execute_result",
          "data": {
            "text/plain": [
              "(Mary, 30)"
            ]
          },
          "metadata": {
            "tags": []
          },
          "execution_count": 40
        }
      ]
    },
    {
      "cell_type": "code",
      "metadata": {
        "id": "4umwChPpS2EQ",
        "colab": {
          "base_uri": "https://localhost:8080/",
          "height": 87
        },
        "outputId": "9d470403-0ee9-48fe-cfcd-53df87f79c15"
      },
      "source": [
        "print(p1)\n",
        "print(Person.name)\n",
        "print(p2)\n",
        "print(p3)"
      ],
      "execution_count": null,
      "outputs": [
        {
          "output_type": "stream",
          "text": [
            "John:36\n",
            "nobody\n",
            "Louise:30\n",
            "Mary:30\n"
          ],
          "name": "stdout"
        }
      ]
    },
    {
      "cell_type": "code",
      "metadata": {
        "id": "YxIwVAXVV0gP",
        "colab": {
          "base_uri": "https://localhost:8080/",
          "height": 52
        },
        "outputId": "f64df29e-b033-4ea5-c289-affd350df327"
      },
      "source": [
        "p1.getOlder()\n",
        "print(p1)\n",
        "p1.getOlder(5)\n",
        "print(p1)"
      ],
      "execution_count": null,
      "outputs": [
        {
          "output_type": "stream",
          "text": [
            "John:43\n",
            "John:48\n"
          ],
          "name": "stdout"
        }
      ]
    },
    {
      "cell_type": "code",
      "metadata": {
        "id": "Z3YLsjvAOFu1",
        "colab": {
          "base_uri": "https://localhost:8080/",
          "height": 70
        },
        "outputId": "6aad7d4d-1114-4818-efb3-1513fb7904aa"
      },
      "source": [
        "#only class method can change class variable\n",
        "class MyClass:\n",
        "  x = 5\n",
        "  def __init__(self):\n",
        "      self.x = 6\n",
        "  @classmethod\n",
        "  def incX(cls):\n",
        "      cls.x += 2\n",
        "\n",
        "p = MyClass()\n",
        "print(p.x)\n",
        "print(MyClass.x) # x is actually a class variable, so can be accesses by class name\n",
        "MyClass().incX()\n",
        "print(MyClass.x)"
      ],
      "execution_count": null,
      "outputs": [
        {
          "output_type": "stream",
          "text": [
            "6\n",
            "5\n",
            "7\n"
          ],
          "name": "stdout"
        }
      ]
    },
    {
      "cell_type": "code",
      "metadata": {
        "id": "K4HNu-CsUgei"
      },
      "source": [
        "del Rational"
      ],
      "execution_count": null,
      "outputs": []
    },
    {
      "cell_type": "code",
      "metadata": {
        "id": "ujyawj38crbT"
      },
      "source": [
        "# p/q\n",
        "class Rational:\n",
        "    def __init__(self, p, q=1):\n",
        "       g = self.gcd(p, q)\n",
        "       neg = False\n",
        "       if p*q<0: neg = True\n",
        "       self.p = abs(p//g)\n",
        "       self.q = abs(q//g)\n",
        "       if neg:\n",
        "         self.p *= -1\n",
        "\n",
        "    def __str__(self):\n",
        "       if self.q == 1: return f'{self.p}'\n",
        "       return f'{self.p}/{self.q}'\n",
        "    def __repr__(self):\n",
        "       if self.q == 1: return f'({self.p})'\n",
        "       return f'({self.p}/{self.q})'\n",
        "    def gcd(self, p, q):\n",
        "        if p==0: return abs(q)\n",
        "        if q==0: return abs(p)\n",
        "        return self.gcd(q, p%q)\n",
        "    # operator override +\n",
        "    def __add__(self, aRational):\n",
        "        newp = self.p * aRational.q + self.q * aRational.p\n",
        "        newq = self.q * aRational.q\n",
        "        return Rational(newp, newq)    \n"
      ],
      "execution_count": null,
      "outputs": []
    },
    {
      "cell_type": "code",
      "metadata": {
        "id": "vZYFyByXdXOD",
        "colab": {
          "base_uri": "https://localhost:8080/",
          "height": 35
        },
        "outputId": "d51f96a2-a072-43cc-9dab-0b6b58a2c855"
      },
      "source": [
        "# 1/2 + 2/3 = (1*3+2*2)/2*3 = 7/6\n",
        "r1 = Rational(1,2)\n",
        "r2 = Rational(2, 3)\n",
        "r3 = r1 + r2\n",
        "print(r3)"
      ],
      "execution_count": null,
      "outputs": [
        {
          "output_type": "stream",
          "text": [
            "7/6\n"
          ],
          "name": "stdout"
        }
      ]
    },
    {
      "cell_type": "code",
      "metadata": {
        "id": "lUswKB-fdc6J",
        "colab": {
          "base_uri": "https://localhost:8080/",
          "height": 35
        },
        "outputId": "5ec10a9d-a70d-4e02-87bf-162bfb05582e"
      },
      "source": [
        "r1"
      ],
      "execution_count": null,
      "outputs": [
        {
          "output_type": "execute_result",
          "data": {
            "text/plain": [
              "(-4/7)"
            ]
          },
          "metadata": {
            "tags": []
          },
          "execution_count": 62
        }
      ]
    },
    {
      "cell_type": "code",
      "metadata": {
        "id": "CFErCfHcRPfB",
        "colab": {
          "base_uri": "https://localhost:8080/",
          "height": 34
        },
        "outputId": "69ce7030-0732-48e8-8933-ce52e787132b"
      },
      "source": [
        "r1 = Rational(3, 5)\n",
        "r1"
      ],
      "execution_count": null,
      "outputs": [
        {
          "output_type": "execute_result",
          "data": {
            "text/plain": [
              "Rational(3/5)"
            ]
          },
          "metadata": {
            "tags": []
          },
          "execution_count": 44
        }
      ]
    },
    {
      "cell_type": "code",
      "metadata": {
        "id": "srlFhr_jRgkI",
        "colab": {
          "base_uri": "https://localhost:8080/",
          "height": 34
        },
        "outputId": "52719268-e6a8-4255-9a94-208b97963892"
      },
      "source": [
        "r1 = Rational(3, 5)\n",
        "print(r1)"
      ],
      "execution_count": null,
      "outputs": [
        {
          "output_type": "stream",
          "text": [
            "3/5\n"
          ],
          "name": "stdout"
        }
      ]
    },
    {
      "cell_type": "code",
      "metadata": {
        "id": "YrYCQqUYSbll",
        "colab": {
          "base_uri": "https://localhost:8080/",
          "height": 34
        },
        "outputId": "09d2def6-e7e9-4cdc-f59e-c88121306b2e"
      },
      "source": [
        "r2 = Rational(4, -6)\n",
        "print(r2)"
      ],
      "execution_count": null,
      "outputs": [
        {
          "output_type": "stream",
          "text": [
            "-2/3\n"
          ],
          "name": "stdout"
        }
      ]
    },
    {
      "cell_type": "code",
      "metadata": {
        "id": "rQE4A1c9aHkV",
        "colab": {
          "base_uri": "https://localhost:8080/",
          "height": 34
        },
        "outputId": "e416d900-6507-4005-ac49-dfbd449260b3"
      },
      "source": [
        "r3 = r1 + r2\n",
        "print(r3)"
      ],
      "execution_count": null,
      "outputs": [
        {
          "output_type": "stream",
          "text": [
            "-1/15\n"
          ],
          "name": "stdout"
        }
      ]
    },
    {
      "cell_type": "markdown",
      "metadata": {
        "id": "LsUEDGt5dO7Q"
      },
      "source": [
        "#### Practice: Calculating 1/2 - 1/4 + 1/8 - ... - 1/1024=?\n",
        "- check [wolfram alpha](https://www.wolframalpha.com/input/?i=1%2F2%2B1%2F4%2B1%2F8%2B...%2B1%2F1024)"
      ]
    },
    {
      "cell_type": "code",
      "metadata": {
        "id": "R3qsKHlEcdw0",
        "colab": {
          "base_uri": "https://localhost:8080/",
          "height": 35
        },
        "outputId": "845fdbc3-ebd1-4f19-865a-b295e5028a14"
      },
      "source": [
        "# 1/2 - 1/4 + 1/8 - ... - 1/1024\n",
        "sum=Rational(0)\n",
        "# (your code)\n",
        "q = 1\n",
        "p = -1\n",
        "for i in range(10):\n",
        "    q *= 2\n",
        "    p *= -1    \n",
        "    sum += Rational(p, q)\n",
        "\n",
        "print(sum)"
      ],
      "execution_count": null,
      "outputs": [
        {
          "output_type": "stream",
          "text": [
            "341/1024\n"
          ],
          "name": "stdout"
        }
      ]
    },
    {
      "cell_type": "markdown",
      "metadata": {
        "id": "2Ov-gDCS9xCh"
      },
      "source": [
        "  - [Regex from w3school](https://www.w3schools.com/python/python_regex.asp)"
      ]
    },
    {
      "cell_type": "code",
      "metadata": {
        "id": "tPdbt0pe-XQK"
      },
      "source": [
        "#code for regex\n",
        "text=''' 磁碟區 D 中的磁碟沒有標籤。\n",
        " 磁碟區序號:  6537-3231\n",
        "\n",
        " D:\\課程投影片影音\\統計學Excel\\Excel範例檔案 的目錄\n",
        "\n",
        "ChartsPlotting.xls           Excel_VBA1.xls\n",
        "Excel_VBA2.xlsx              ch17 一般線性模式.xls\n",
        "ch09 假設檢定.xls             ch08 區間估計.xls\n",
        "ch04 常態分佈.xls             ch07 抽樣分佈.xls\n",
        "樞紐分析.xlsx                 研究實例.xlsx\n",
        "ch15 簡單線性迴歸.xls          ch11 線性相關.xls\n",
        "ch16 複迴歸.xls               ch03 變異量數.xls\n",
        "ch06 連續機率.xls             ch05 間斷機率.xls\n",
        "ch02 集中量數.xls             ch10 類別資料分析.xls\n",
        "ch12 單因子變異數分析I.xls    ch13 單因子變異數分析II.xls\n",
        "ch14 多因子變異數分析.xls\n",
        "              21 個檔案      10,247,680 位元組\n",
        "               0 個目錄  176,561,848,320 位元組可用\n",
        "'''"
      ],
      "execution_count": null,
      "outputs": []
    },
    {
      "cell_type": "code",
      "metadata": {
        "id": "qV5icqcEYY4n",
        "colab": {
          "base_uri": "https://localhost:8080/",
          "height": 34
        },
        "outputId": "f6fde0d8-08ac-44eb-a2ab-839dd0a398ad"
      },
      "source": [
        "import re\n",
        "files=[x for y in text.split('\\n') for x in re.split('\\s+', y) if re.search(r'.xlsx?$', x)]\n",
        "len(files)"
      ],
      "execution_count": null,
      "outputs": [
        {
          "output_type": "execute_result",
          "data": {
            "text/plain": [
              "21"
            ]
          },
          "metadata": {
            "tags": []
          },
          "execution_count": 2
        }
      ]
    },
    {
      "cell_type": "code",
      "metadata": {
        "id": "AEsxxv5UZKIb",
        "colab": {
          "base_uri": "https://localhost:8080/",
          "height": 386
        },
        "outputId": "5fae2b17-cc40-4620-dda8-8365822e898b"
      },
      "source": [
        "files"
      ],
      "execution_count": null,
      "outputs": [
        {
          "output_type": "execute_result",
          "data": {
            "text/plain": [
              "['ChartsPlotting.xls',\n",
              " 'Excel_VBA1.xls',\n",
              " 'Excel_VBA2.xlsx',\n",
              " '一般線性模式.xls',\n",
              " '假設檢定.xls',\n",
              " '區間估計.xls',\n",
              " '常態分佈.xls',\n",
              " '抽樣分佈.xls',\n",
              " '樞紐分析.xlsx',\n",
              " '研究實例.xlsx',\n",
              " '簡單線性迴歸.xls',\n",
              " '線性相關.xls',\n",
              " '複迴歸.xls',\n",
              " '變異量數.xls',\n",
              " '連續機率.xls',\n",
              " '間斷機率.xls',\n",
              " '集中量數.xls',\n",
              " '類別資料分析.xls',\n",
              " '單因子變異數分析I.xls',\n",
              " '單因子變異數分析II.xls',\n",
              " '多因子變異數分析.xls']"
            ]
          },
          "metadata": {
            "tags": []
          },
          "execution_count": 3
        }
      ]
    },
    {
      "cell_type": "markdown",
      "metadata": {
        "id": "faKYrTM0arIX"
      },
      "source": [
        "#### Practice 2. Building the hyperlink for the files above, using file stem (filename without extension) as text for the hyperlink.\n",
        "- technique: grouping re.search('(.\\*)(\\\\..\\*)', filename), group(0) is the whole string, group(1) is the first group, group(2) is the second group"
      ]
    },
    {
      "cell_type": "code",
      "metadata": {
        "id": "oNeuPGqjao8y",
        "colab": {
          "base_uri": "https://localhost:8080/",
          "height": 386
        },
        "outputId": "bbfb5d34-02df-43e0-8dec-605372a39bdb"
      },
      "source": [
        "# using group(1) to get the file stem\n",
        "for f in files:\n",
        "    v = re.search('(.*)(\\..*)', f)\n",
        "    if v:\n",
        "       print(v.group(1))"
      ],
      "execution_count": null,
      "outputs": [
        {
          "output_type": "stream",
          "text": [
            "ChartsPlotting\n",
            "Excel_VBA1\n",
            "Excel_VBA2\n",
            "一般線性模式\n",
            "假設檢定\n",
            "區間估計\n",
            "常態分佈\n",
            "抽樣分佈\n",
            "樞紐分析\n",
            "研究實例\n",
            "簡單線性迴歸\n",
            "線性相關\n",
            "複迴歸\n",
            "變異量數\n",
            "連續機率\n",
            "間斷機率\n",
            "集中量數\n",
            "類別資料分析\n",
            "單因子變異數分析I\n",
            "單因子變異數分析II\n",
            "多因子變異數分析\n"
          ],
          "name": "stdout"
        }
      ]
    },
    {
      "cell_type": "code",
      "metadata": {
        "id": "us8EzJx4dSKU",
        "colab": {
          "base_uri": "https://localhost:8080/",
          "height": 404
        },
        "outputId": "14bdeabb-7ace-451e-ab9a-dc0aa85b1ae7"
      },
      "source": [
        "str=''\n",
        "# your code here\n",
        "\n",
        "\n",
        "\n",
        "\n",
        "\n",
        "\n",
        "print(str)"
      ],
      "execution_count": null,
      "outputs": [
        {
          "output_type": "stream",
          "text": [
            "<a href='ChartsPlotting.xls'>ChartsPlotting</a><br />\n",
            "<a href='Excel_VBA1.xls'>Excel_VBA1</a><br />\n",
            "<a href='Excel_VBA2.xlsx'>Excel_VBA2</a><br />\n",
            "<a href='一般線性模式.xls'>一般線性模式</a><br />\n",
            "<a href='假設檢定.xls'>假設檢定</a><br />\n",
            "<a href='區間估計.xls'>區間估計</a><br />\n",
            "<a href='常態分佈.xls'>常態分佈</a><br />\n",
            "<a href='抽樣分佈.xls'>抽樣分佈</a><br />\n",
            "<a href='樞紐分析.xlsx'>樞紐分析</a><br />\n",
            "<a href='研究實例.xlsx'>研究實例</a><br />\n",
            "<a href='簡單線性迴歸.xls'>簡單線性迴歸</a><br />\n",
            "<a href='線性相關.xls'>線性相關</a><br />\n",
            "<a href='複迴歸.xls'>複迴歸</a><br />\n",
            "<a href='變異量數.xls'>變異量數</a><br />\n",
            "<a href='連續機率.xls'>連續機率</a><br />\n",
            "<a href='間斷機率.xls'>間斷機率</a><br />\n",
            "<a href='集中量數.xls'>集中量數</a><br />\n",
            "<a href='類別資料分析.xls'>類別資料分析</a><br />\n",
            "<a href='單因子變異數分析I.xls'>單因子變異數分析I</a><br />\n",
            "<a href='單因子變異數分析II.xls'>單因子變異數分析II</a><br />\n",
            "<a href='多因子變異數分析.xls'>多因子變異數分析</a><br />\n",
            "\n"
          ],
          "name": "stdout"
        }
      ]
    },
    {
      "cell_type": "code",
      "metadata": {
        "id": "SoXYAG1hXZB7",
        "colab": {
          "base_uri": "https://localhost:8080/",
          "height": 34
        },
        "outputId": "97c01f1b-02c4-4c47-8dda-6da5fb839135"
      },
      "source": [
        "from timeit import timeit\n",
        "python_list=[]\n",
        "timeit(lambda: python_list.insert(0,0), number=10**5)"
      ],
      "execution_count": null,
      "outputs": [
        {
          "output_type": "execute_result",
          "data": {
            "text/plain": [
              "2.186567827997351"
            ]
          },
          "metadata": {
            "tags": []
          },
          "execution_count": 87
        }
      ]
    },
    {
      "cell_type": "code",
      "metadata": {
        "id": "nMMwI_JMX0Nz",
        "colab": {
          "base_uri": "https://localhost:8080/",
          "height": 34
        },
        "outputId": "524160fa-254f-410d-80aa-05480cc7bc01"
      },
      "source": [
        "linked_list = LinkedList()\n",
        "timeit(lambda: linked_list.push(0), number=10**5)"
      ],
      "execution_count": null,
      "outputs": [
        {
          "output_type": "execute_result",
          "data": {
            "text/plain": [
              "0.08321603200238314"
            ]
          },
          "metadata": {
            "tags": []
          },
          "execution_count": 88
        }
      ]
    },
    {
      "cell_type": "code",
      "metadata": {
        "id": "jxeuEc0gUTYO"
      },
      "source": [
        "from google.colab import files\n",
        "##for uploading files\n",
        "uploaded = files.upload()\n",
        "#for downloading file\n",
        "#files.download('mixins.py')"
      ],
      "execution_count": null,
      "outputs": []
    }
  ]
}